{
 "cells": [
  {
   "cell_type": "code",
   "execution_count": 67,
   "metadata": {},
   "outputs": [],
   "source": [
    "import math \n",
    "import statistics\n",
    "\n",
    "import pandas as pd\n",
    "import numpy as np\n",
    "np.random.seed(42)\n",
    "# --------------------------------------\n",
    "import sklearn\n",
    "from sklearn.preprocessing import MinMaxScaler\n",
    "from sklearn.model_selection import train_test_split, cross_val_score, GridSearchCV \n",
    "from sklearn.metrics import accuracy_score, f1_score, confusion_matrix\n",
    "from sklearn.tree import DecisionTreeClassifier\n",
    "from sklearn.naive_bayes import GaussianNB\n",
    "from sklearn.neighbors import KNeighborsClassifier\n",
    "# --------------------------------------\n",
    "from IPython.core.interactiveshell import InteractiveShell\n",
    "InteractiveShell.ast_node_interactivity = \"all\"\n",
    "pd.pandas.set_option('display.max_columns', None)\n",
    "pd.set_option('display.float_format', lambda x: '%.3f' % x)"
   ]
  },
  {
   "cell_type": "markdown",
   "metadata": {},
   "source": [
    "# Functions"
   ]
  },
  {
   "cell_type": "markdown",
   "metadata": {},
   "source": [
    "### Uploading CSV to dataframe"
   ]
  },
  {
   "cell_type": "code",
   "execution_count": 68,
   "metadata": {},
   "outputs": [],
   "source": [
    "def csv_to_df(file_name_csv):\n",
    "    load_csv = lambda file_name: pd.read_csv(file_name)\n",
    "    risk_factor_df = load_csv(file_name_csv)\n",
    "    risk_factor_df.head()\n",
    "    return risk_factor_df"
   ]
  },
  {
   "cell_type": "markdown",
   "metadata": {},
   "source": [
    "### Data preprocessing"
   ]
  },
  {
   "cell_type": "code",
   "execution_count": 69,
   "metadata": {},
   "outputs": [],
   "source": [
    "def remove_duplicates(risk_factor_df):\n",
    "    risk_factor_df = risk_factor_df.drop_duplicates()\n",
    "    return risk_factor_df"
   ]
  },
  {
   "cell_type": "code",
   "execution_count": 70,
   "metadata": {},
   "outputs": [],
   "source": [
    "def decouple_data(risk_factor_df):\n",
    "    y = risk_factor_df['risk']\n",
    "    X = risk_factor_df.drop(columns=['risk']).copy()\n",
    "    return X, y"
   ]
  },
  {
   "cell_type": "code",
   "execution_count": 71,
   "metadata": {},
   "outputs": [],
   "source": [
    "def split_data(X, y):\n",
    "    X_train, X_test, y_train, y_test = train_test_split(X,y, test_size = 0.20, random_state = 3, shuffle=False)\n",
    "    return X_train, X_test, y_train, y_test"
   ]
  },
  {
   "cell_type": "code",
   "execution_count": 72,
   "metadata": {},
   "outputs": [],
   "source": [
    "def handle_missing_values(X_train, X_test, y_train, y_test):\n",
    "    #Handling first the test because it should be based on the original train set's statistics\n",
    "    for col in ['saving_account','checking_account']:\n",
    "        X_test[col].fillna(X_train[col].mode().iloc[0],inplace=True)\n",
    "        X_train[col].fillna(X_train[col].mode().iloc[0],inplace=True)\n",
    "    X_test['credit_amount'].fillna(X_train['credit_amount'].median(),inplace=True)    \n",
    "    X_train['credit_amount'].fillna(X_train['credit_amount'].median(),inplace=True)\n",
    "    \n",
    "    for col in ['years','duration']:\n",
    "        X_test[col].fillna(X_train[col].mean(),inplace=True)\n",
    "        X_train[col].fillna(X_train[col].mean(),inplace=True)\n",
    "    \n",
    "    for idx, val in y_train.items():\n",
    "        if pd.isna(val):\n",
    "            X_train = X_train.drop(idx)\n",
    "    y_train = y_train.dropna()\n",
    "    \n",
    "    for idx, val in y_test.items():\n",
    "        if pd.isna(val):\n",
    "            X_test = X_test.drop(idx)\n",
    "    y_test = y_test.dropna()\n",
    "\n",
    "    return X_train.copy(), X_test.copy(), y_train.copy(), y_test.copy()\n",
    "    "
   ]
  },
  {
   "cell_type": "code",
   "execution_count": 73,
   "metadata": {},
   "outputs": [],
   "source": [
    "def remove_outliers(X_train, X_test, y_train, y_test):\n",
    "    cols_for_iqr = ['age','years','credit_amount','duration']\n",
    "    idx_list_train = []\n",
    "    idx_list_test = []\n",
    "    for col in cols_for_iqr:\n",
    "        Q1 = X_train[col].quantile(0.25)\n",
    "        Q3 = X_train[col].quantile(0.75)\n",
    "        IQR = Q3 - Q1\n",
    "        \n",
    "        for row_idx, row_val in X_train[col].items():\n",
    "            if (row_val<(Q1-1.5*IQR))or (row_val>(Q3+1.5*IQR)):\n",
    "                idx_list_train.append(row_idx)\n",
    "                \n",
    "        for row_idx, row_val in X_test[col].items(): # this is still calculated by the IQR of train\n",
    "            if (row_val<(Q1-1.5*IQR))or (row_val>(Q3+1.5*IQR)):\n",
    "                idx_list_test.append(row_idx)\n",
    "\n",
    "    X_train.drop(idx_list_train, inplace=True)\n",
    "    y_train.drop(idx_list_train, inplace=True)\n",
    "    X_test.drop(idx_list_test, inplace=True)\n",
    "    y_test.drop(idx_list_test, inplace=True)\n",
    "    \n",
    "    return X_train, X_test, y_train, y_test"
   ]
  },
  {
   "cell_type": "code",
   "execution_count": 74,
   "metadata": {},
   "outputs": [],
   "source": [
    "def scale_data(X_train, X_test):\n",
    "    X_train_scaled = X_train.copy()\n",
    "    X_test_scaled = X_test.copy()\n",
    "    col_to_scale = ['age','years','credit_amount','duration']\n",
    "    scaler = MinMaxScaler(feature_range=(0, 1)) # shell\n",
    "    \n",
    "    for col in col_to_scale:\n",
    "        X_train_scaled[col] = scaler.fit_transform(X_train[[col]]) # calculate the values and apply them on the data \n",
    "        X_test_scaled[col] = scaler.transform(X_test[[col]]) # apply the values (obtained from the train) on the test data\n",
    "\n",
    "    return X_train_scaled, X_test_scaled"
   ]
  },
  {
   "cell_type": "code",
   "execution_count": 75,
   "metadata": {},
   "outputs": [],
   "source": [
    "def remove_correlated(X_train, X_test):\n",
    "    corr_matrix = X_train.corr().abs()\n",
    "    upper = corr_matrix.where(np.triu(np.ones(corr_matrix.shape), k=1).astype(bool))\n",
    "    to_drop = [column for column in upper.columns if any(upper[column] > 0.95)]\n",
    "    X_train = X_train.drop(to_drop, axis=1)\n",
    "    X_test = X_test.drop(to_drop, axis=1)\n",
    "    \n",
    "    return X_train, X_test"
   ]
  },
  {
   "cell_type": "code",
   "execution_count": 76,
   "metadata": {},
   "outputs": [],
   "source": [
    "def handle_categorical_columns(X_train, X_test):\n",
    "    train_encoded_columns = X_train.copy()\n",
    "    col_to_dumm = list(X_train.select_dtypes(include=['object']).columns)\n",
    "    X_train_encoded = pd.get_dummies(data=X_train, columns=col_to_dumm)\n",
    "    X_test_encoded = pd.get_dummies(data=X_test, columns=col_to_dumm)\n",
    "    X_test_encoded = X_test_encoded.reindex(columns = X_train_encoded.columns, fill_value=0)\n",
    "    return X_train_encoded, X_test_encoded"
   ]
  },
  {
   "cell_type": "markdown",
   "metadata": {},
   "source": [
    "### Fitting the models"
   ]
  },
  {
   "cell_type": "code",
   "execution_count": 77,
   "metadata": {},
   "outputs": [],
   "source": [
    "def train_knn(X_train, y_train):\n",
    "    k = 3\n",
    "    clf_knn= KNeighborsClassifier(n_neighbors=k)\n",
    "    clf_knn.fit(X_train,y_train)\n",
    "    return clf_knn "
   ]
  },
  {
   "cell_type": "code",
   "execution_count": 78,
   "metadata": {},
   "outputs": [],
   "source": [
    "def train_naive_bayes(X_train, y_train):\n",
    "    clf_gnb = GaussianNB()\n",
    "    clf_gnb.fit(X_train, y_train)\n",
    "    return clf_gnb"
   ]
  },
  {
   "cell_type": "code",
   "execution_count": 79,
   "metadata": {},
   "outputs": [],
   "source": [
    "def train_decision_tree(X_train, y_train):\n",
    "    clf_dt = DecisionTreeClassifier(max_depth=3, min_samples_split=20)\n",
    "    clf_dt.fit(X_train, y_train)\n",
    "    return clf_dt"
   ]
  },
  {
   "cell_type": "markdown",
   "metadata": {},
   "source": [
    "### Evaluating the models"
   ]
  },
  {
   "cell_type": "code",
   "execution_count": 80,
   "metadata": {},
   "outputs": [],
   "source": [
    "def evaluate_accuracy(clf, X_test, y_test):\n",
    "    y_pred = clf.predict(X_test)\n",
    "    accuracy = accuracy_score(y_test,y_pred)\n",
    "    \n",
    "    return accuracy"
   ]
  },
  {
   "cell_type": "code",
   "execution_count": 81,
   "metadata": {},
   "outputs": [],
   "source": [
    "def evaluate_accuracy_cross_validation(clf, X_train_to_numeric, X_test_to_numeric, y_train, y_test):\n",
    "    X = X_train_to_numeric.append([X_test_to_numeric])\n",
    "    y = y_train.append([y_test])\n",
    "    scores = cross_val_score(clf, X, y, scoring='accuracy', cv=10)\n",
    "    mean_accuracy = scores.mean()\n",
    "    return mean_accuracy"
   ]
  },
  {
   "cell_type": "markdown",
   "metadata": {},
   "source": [
    "### Hyperparameters tuning"
   ]
  },
  {
   "cell_type": "code",
   "execution_count": 82,
   "metadata": {},
   "outputs": [],
   "source": [
    "def grid_search_knn(clf, X_train, y_train):\n",
    "    param_grid = {'n_neighbors': [3, 5, 11, 20, 35, 50],\n",
    "              'weights': ['uniform', 'distance'],\n",
    "              'metric': ['euclidean', 'manhattan', 'minkowski']}\n",
    "    optimal_params = GridSearchCV(\n",
    "        clf,\n",
    "        param_grid,\n",
    "        cv = 5)\n",
    "    grid_result = optimal_params.fit(X_train,y_train)\n",
    "    optimal_params.fit(X_train,y_train)\n",
    "    result = optimal_params.best_params_\n",
    "    return result"
   ]
  },
  {
   "cell_type": "code",
   "execution_count": 83,
   "metadata": {},
   "outputs": [],
   "source": [
    "def grid_search_decision_tree(clf, X_train, y_train):\n",
    "    param_grid = {'criterion': ['gini', 'entropy'],\n",
    "              'max_depth': [1, 2, 3, 4, 5, 6, 7, 8, 9, 10],\n",
    "              'min_samples_split': [5, 10, 15, 20, 25],\n",
    "              'min_samples_leaf': [1, 2, 3, 4, 5, 6, 7, 8, 9, 10]}\n",
    "    optimal_params = GridSearchCV(\n",
    "        clf,\n",
    "        param_grid,\n",
    "        cv = 5)\n",
    "    grid_result = optimal_params.fit(X_train,y_train)\n",
    "    optimal_params.fit(X_train,y_train)\n",
    "    result = optimal_params.best_params_\n",
    "    return result"
   ]
  },
  {
   "cell_type": "markdown",
   "metadata": {},
   "source": [
    "# Main"
   ]
  },
  {
   "cell_type": "code",
   "execution_count": 84,
   "metadata": {},
   "outputs": [],
   "source": [
    "file_name_csv = 'loans_risk_factor_dups.csv'\n",
    "risk_factor_df = csv_to_df(file_name_csv)\n"
   ]
  },
  {
   "cell_type": "code",
   "execution_count": 85,
   "metadata": {},
   "outputs": [
    {
     "name": "stdout",
     "output_type": "stream",
     "text": [
      "\n",
      "\n",
      "<class 'pandas.core.frame.DataFrame'>\n",
      "Int64Index: 551 entries, 0 to 1578\n",
      "Data columns (total 11 columns):\n",
      " #   Column            Non-Null Count  Dtype  \n",
      "---  ------            --------------  -----  \n",
      " 0   age               551 non-null    int64  \n",
      " 1   sex               551 non-null    object \n",
      " 2   job               551 non-null    int64  \n",
      " 3   housing           551 non-null    object \n",
      " 4   years             547 non-null    float64\n",
      " 5   saving_account    463 non-null    object \n",
      " 6   checking_account  372 non-null    object \n",
      " 7   credit_amount     551 non-null    int64  \n",
      " 8   duration          547 non-null    float64\n",
      " 9   purpose           551 non-null    object \n",
      " 10  risk              543 non-null    float64\n",
      "dtypes: float64(3), int64(3), object(5)\n",
      "memory usage: 51.7+ KB\n"
     ]
    }
   ],
   "source": [
    "risk_factor_df_no_dups = remove_duplicates(risk_factor_df)\n",
    "print('\\n')\n",
    "risk_factor_df_no_dups.info()"
   ]
  },
  {
   "cell_type": "code",
   "execution_count": 86,
   "metadata": {},
   "outputs": [
    {
     "name": "stdout",
     "output_type": "stream",
     "text": [
      "X's shape is: (551, 10)\n",
      "y's shape is: (551,)\n"
     ]
    }
   ],
   "source": [
    "X, y = decouple_data(risk_factor_df_no_dups)\n",
    "print(\"X's shape is:\", X.shape)\n",
    "print(\"y's shape is:\", y.shape)"
   ]
  },
  {
   "cell_type": "code",
   "execution_count": 87,
   "metadata": {},
   "outputs": [
    {
     "name": "stdout",
     "output_type": "stream",
     "text": [
      "train shape  (440, 10)\n",
      "train label shape  (440,)\n",
      "test shape  (111, 10)\n",
      "test label shape  (111,)\n"
     ]
    }
   ],
   "source": [
    "X_train, X_test, y_train, y_test = split_data(X, y)\n",
    "print(\"train shape \",X_train.shape)\n",
    "print(\"train label shape \",y_train.shape)\n",
    "print(\"test shape \",X_test.shape)\n",
    "print(\"test label shape \",y_test.shape)"
   ]
  },
  {
   "cell_type": "code",
   "execution_count": 88,
   "metadata": {},
   "outputs": [
    {
     "name": "stdout",
     "output_type": "stream",
     "text": [
      "<class 'pandas.core.frame.DataFrame'>\n",
      "Int64Index: 432 entries, 0 to 824\n",
      "Data columns (total 10 columns):\n",
      " #   Column            Non-Null Count  Dtype  \n",
      "---  ------            --------------  -----  \n",
      " 0   age               432 non-null    int64  \n",
      " 1   sex               432 non-null    object \n",
      " 2   job               432 non-null    int64  \n",
      " 3   housing           432 non-null    object \n",
      " 4   years             432 non-null    float64\n",
      " 5   saving_account    432 non-null    object \n",
      " 6   checking_account  432 non-null    object \n",
      " 7   credit_amount     432 non-null    int64  \n",
      " 8   duration          432 non-null    float64\n",
      " 9   purpose           432 non-null    object \n",
      "dtypes: float64(2), int64(3), object(5)\n",
      "memory usage: 37.1+ KB\n"
     ]
    },
    {
     "data": {
      "text/plain": [
       "(432,)"
      ]
     },
     "execution_count": 88,
     "metadata": {},
     "output_type": "execute_result"
    },
    {
     "data": {
      "text/plain": [
       "(111, 10)"
      ]
     },
     "execution_count": 88,
     "metadata": {},
     "output_type": "execute_result"
    },
    {
     "data": {
      "text/plain": [
       "(111,)"
      ]
     },
     "execution_count": 88,
     "metadata": {},
     "output_type": "execute_result"
    }
   ],
   "source": [
    "X_train_filled_val, X_test_filled_val, y_train_filled_val, y_test_filled_val = handle_missing_values(X_train, X_test, y_train, y_test)\n",
    "\n",
    "X_train_filled_val.info()\n",
    "y_train_filled_val.shape\n",
    "\n",
    "X_test_filled_val.shape\n",
    "y_test_filled_val.shape"
   ]
  },
  {
   "cell_type": "code",
   "execution_count": 89,
   "metadata": {},
   "outputs": [
    {
     "name": "stdout",
     "output_type": "stream",
     "text": [
      "train shape  (377, 10)\n",
      "train label shape  (377,)\n",
      "test shape  (93, 10)\n",
      "test label shape  (93,)\n"
     ]
    }
   ],
   "source": [
    "X_train_no_outliers, X_test_no_outliers, y_train, y_test = remove_outliers(X_train_filled_val, X_test_filled_val, y_train_filled_val, y_test_filled_val)\n",
    "\n",
    "print(\"train shape \",X_train_no_outliers.shape)\n",
    "print(\"train label shape \",y_train.shape)\n",
    "print(\"test shape \",X_test_no_outliers.shape)\n",
    "print(\"test label shape \",y_test.shape)"
   ]
  },
  {
   "cell_type": "code",
   "execution_count": 90,
   "metadata": {},
   "outputs": [
    {
     "data": {
      "text/html": [
       "<div>\n",
       "<style scoped>\n",
       "    .dataframe tbody tr th:only-of-type {\n",
       "        vertical-align: middle;\n",
       "    }\n",
       "\n",
       "    .dataframe tbody tr th {\n",
       "        vertical-align: top;\n",
       "    }\n",
       "\n",
       "    .dataframe thead th {\n",
       "        text-align: right;\n",
       "    }\n",
       "</style>\n",
       "<table border=\"1\" class=\"dataframe\">\n",
       "  <thead>\n",
       "    <tr style=\"text-align: right;\">\n",
       "      <th></th>\n",
       "      <th>age</th>\n",
       "      <th>sex</th>\n",
       "      <th>job</th>\n",
       "      <th>housing</th>\n",
       "      <th>years</th>\n",
       "      <th>saving_account</th>\n",
       "      <th>checking_account</th>\n",
       "      <th>credit_amount</th>\n",
       "      <th>duration</th>\n",
       "      <th>purpose</th>\n",
       "    </tr>\n",
       "  </thead>\n",
       "  <tbody>\n",
       "    <tr>\n",
       "      <th>0</th>\n",
       "      <td>0.149</td>\n",
       "      <td>male</td>\n",
       "      <td>2</td>\n",
       "      <td>own</td>\n",
       "      <td>0.211</td>\n",
       "      <td>little</td>\n",
       "      <td>rich</td>\n",
       "      <td>0.122</td>\n",
       "      <td>0.211</td>\n",
       "      <td>car</td>\n",
       "    </tr>\n",
       "    <tr>\n",
       "      <th>1</th>\n",
       "      <td>0.511</td>\n",
       "      <td>male</td>\n",
       "      <td>2</td>\n",
       "      <td>own</td>\n",
       "      <td>0.526</td>\n",
       "      <td>little</td>\n",
       "      <td>little</td>\n",
       "      <td>0.228</td>\n",
       "      <td>0.526</td>\n",
       "      <td>car</td>\n",
       "    </tr>\n",
       "  </tbody>\n",
       "</table>\n",
       "</div>"
      ],
      "text/plain": [
       "    age   sex  job housing  years saving_account checking_account  \\\n",
       "0 0.149  male    2     own  0.211         little             rich   \n",
       "1 0.511  male    2     own  0.526         little           little   \n",
       "\n",
       "   credit_amount  duration purpose  \n",
       "0          0.122     0.211     car  \n",
       "1          0.228     0.526     car  "
      ]
     },
     "execution_count": 90,
     "metadata": {},
     "output_type": "execute_result"
    }
   ],
   "source": [
    "X_train_scaled, X_test_scaled = scale_data(X_train_no_outliers, X_test_no_outliers)\n",
    "X_train_scaled.head(2)"
   ]
  },
  {
   "cell_type": "code",
   "execution_count": 91,
   "metadata": {},
   "outputs": [
    {
     "data": {
      "text/plain": [
       "(377, 10)"
      ]
     },
     "execution_count": 91,
     "metadata": {},
     "output_type": "execute_result"
    },
    {
     "data": {
      "text/plain": [
       "(377, 9)"
      ]
     },
     "execution_count": 91,
     "metadata": {},
     "output_type": "execute_result"
    },
    {
     "data": {
      "text/plain": [
       "(93, 9)"
      ]
     },
     "execution_count": 91,
     "metadata": {},
     "output_type": "execute_result"
    }
   ],
   "source": [
    "X_train_indep, X_test_indep = remove_correlated(X_train_scaled, X_test_scaled)\n",
    "\n",
    "X_train_scaled.shape\n",
    "X_train_indep.shape\n",
    "X_test_indep.shape"
   ]
  },
  {
   "cell_type": "code",
   "execution_count": 92,
   "metadata": {},
   "outputs": [
    {
     "data": {
      "text/plain": [
       "(377, 24)"
      ]
     },
     "execution_count": 92,
     "metadata": {},
     "output_type": "execute_result"
    },
    {
     "data": {
      "text/plain": [
       "(93, 24)"
      ]
     },
     "execution_count": 92,
     "metadata": {},
     "output_type": "execute_result"
    },
    {
     "name": "stdout",
     "output_type": "stream",
     "text": [
      "<class 'pandas.core.frame.DataFrame'>\n",
      "Int64Index: 111 entries, 825 to 1578\n",
      "Data columns (total 10 columns):\n",
      " #   Column            Non-Null Count  Dtype  \n",
      "---  ------            --------------  -----  \n",
      " 0   age               111 non-null    int64  \n",
      " 1   sex               111 non-null    object \n",
      " 2   job               111 non-null    int64  \n",
      " 3   housing           111 non-null    object \n",
      " 4   years             111 non-null    float64\n",
      " 5   saving_account    111 non-null    object \n",
      " 6   checking_account  111 non-null    object \n",
      " 7   credit_amount     111 non-null    int64  \n",
      " 8   duration          111 non-null    float64\n",
      " 9   purpose           111 non-null    object \n",
      "dtypes: float64(2), int64(3), object(5)\n",
      "memory usage: 9.5+ KB\n",
      "None\n",
      "<class 'pandas.core.frame.DataFrame'>\n",
      "Int64Index: 440 entries, 0 to 824\n",
      "Data columns (total 10 columns):\n",
      " #   Column            Non-Null Count  Dtype  \n",
      "---  ------            --------------  -----  \n",
      " 0   age               440 non-null    int64  \n",
      " 1   sex               440 non-null    object \n",
      " 2   job               440 non-null    int64  \n",
      " 3   housing           440 non-null    object \n",
      " 4   years             440 non-null    float64\n",
      " 5   saving_account    440 non-null    object \n",
      " 6   checking_account  440 non-null    object \n",
      " 7   credit_amount     440 non-null    int64  \n",
      " 8   duration          440 non-null    float64\n",
      " 9   purpose           440 non-null    object \n",
      "dtypes: float64(2), int64(3), object(5)\n",
      "memory usage: 57.8+ KB\n",
      "None\n"
     ]
    }
   ],
   "source": [
    "X_train_to_numeric, X_test_to_numeric = handle_categorical_columns(X_train_indep, X_test_indep)\n",
    "\n",
    "X_train_to_numeric.shape\n",
    "X_test_to_numeric.shape\n",
    "print(X_test.info())\n",
    "print(X_train.info())"
   ]
  },
  {
   "cell_type": "code",
   "execution_count": 93,
   "metadata": {},
   "outputs": [
    {
     "data": {
      "text/plain": [
       "KNeighborsClassifier(n_neighbors=3)"
      ]
     },
     "execution_count": 93,
     "metadata": {},
     "output_type": "execute_result"
    }
   ],
   "source": [
    "knn_clf = train_knn(X_train_to_numeric, y_train)\n",
    "knn_clf"
   ]
  },
  {
   "cell_type": "code",
   "execution_count": 94,
   "metadata": {},
   "outputs": [
    {
     "data": {
      "text/plain": [
       "GaussianNB()"
      ]
     },
     "execution_count": 94,
     "metadata": {},
     "output_type": "execute_result"
    }
   ],
   "source": [
    "nb_clf = train_naive_bayes(X_train_to_numeric, y_train)\n",
    "nb_clf"
   ]
  },
  {
   "cell_type": "code",
   "execution_count": 95,
   "metadata": {},
   "outputs": [
    {
     "data": {
      "text/plain": [
       "DecisionTreeClassifier(max_depth=3, min_samples_split=20)"
      ]
     },
     "execution_count": 95,
     "metadata": {},
     "output_type": "execute_result"
    }
   ],
   "source": [
    "dt_clf = train_decision_tree(X_train_to_numeric, y_train)\n",
    "dt_clf"
   ]
  },
  {
   "cell_type": "code",
   "execution_count": 96,
   "metadata": {},
   "outputs": [
    {
     "name": "stdout",
     "output_type": "stream",
     "text": [
      "The accuracy of the KNN model is:\n"
     ]
    },
    {
     "data": {
      "text/plain": [
       "0.5053763440860215"
      ]
     },
     "execution_count": 96,
     "metadata": {},
     "output_type": "execute_result"
    },
    {
     "name": "stdout",
     "output_type": "stream",
     "text": [
      "\n",
      "\n",
      "The accuracy of the Naive Bayes model is:\n"
     ]
    },
    {
     "data": {
      "text/plain": [
       "0.6344086021505376"
      ]
     },
     "execution_count": 96,
     "metadata": {},
     "output_type": "execute_result"
    },
    {
     "name": "stdout",
     "output_type": "stream",
     "text": [
      "\n",
      "\n",
      "The accuracy of the Decision Tree model is:\n"
     ]
    },
    {
     "data": {
      "text/plain": [
       "0.5268817204301075"
      ]
     },
     "execution_count": 96,
     "metadata": {},
     "output_type": "execute_result"
    }
   ],
   "source": [
    "print(\"The accuracy of the KNN model is:\")\n",
    "evaluate_accuracy(knn_clf, X_test_to_numeric, y_test)\n",
    "print('\\n')\n",
    "print(\"The accuracy of the Naive Bayes model is:\")\n",
    "evaluate_accuracy(nb_clf, X_test_to_numeric, y_test)\n",
    "print('\\n')\n",
    "print(\"The accuracy of the Decision Tree model is:\")\n",
    "evaluate_accuracy(dt_clf, X_test_to_numeric, y_test)"
   ]
  },
  {
   "cell_type": "code",
   "execution_count": 97,
   "metadata": {},
   "outputs": [
    {
     "name": "stdout",
     "output_type": "stream",
     "text": [
      "The mean Cross Validation score of the KNN model is: 0.5276595744680852\n",
      "The mean Cross Validation score of the Naive Bayes model is: 0.5829787234042554\n",
      "The mean Cross Validation score of the Decision Tree model is: 0.5553191489361703\n"
     ]
    }
   ],
   "source": [
    "knn_cv_acc_score = evaluate_accuracy_cross_validation(KNeighborsClassifier(n_neighbors=3)\n",
    "                                                      , X_train_to_numeric, X_test_to_numeric, y_train, y_test)\n",
    "nb_cv_acc_score = evaluate_accuracy_cross_validation(GaussianNB(),\n",
    "                                                     X_train_to_numeric, X_test_to_numeric, y_train, y_test)\n",
    "dt_cv_acc_score = evaluate_accuracy_cross_validation(\n",
    "                            DecisionTreeClassifier(max_depth=3, min_samples_split=20,random_state=42),\n",
    "                            X_train_to_numeric, X_test_to_numeric, y_train, y_test)\n",
    "print(\"The mean Cross Validation score of the KNN model is:\", knn_cv_acc_score)\n",
    "print(\"The mean Cross Validation score of the Naive Bayes model is:\", nb_cv_acc_score)\n",
    "print(\"The mean Cross Validation score of the Decision Tree model is:\", dt_cv_acc_score)"
   ]
  },
  {
   "cell_type": "code",
   "execution_count": 98,
   "metadata": {},
   "outputs": [
    {
     "name": "stdout",
     "output_type": "stream",
     "text": [
      "{'metric': 'euclidean', 'n_neighbors': 35, 'weights': 'uniform'}\n"
     ]
    }
   ],
   "source": [
    "grid_search_knn_result = grid_search_knn(KNeighborsClassifier(), X_train_to_numeric, y_train)\n",
    "print(grid_search_knn_result)"
   ]
  },
  {
   "cell_type": "code",
   "execution_count": 100,
   "metadata": {},
   "outputs": [
    {
     "name": "stdout",
     "output_type": "stream",
     "text": [
      "{'criterion': 'gini', 'max_depth': 9, 'min_samples_leaf': 1, 'min_samples_split': 15}\n"
     ]
    }
   ],
   "source": [
    "grid_search_dt_result = grid_search_decision_tree(DecisionTreeClassifier(random_state=42), X_train_to_numeric, y_train)\n",
    "print(grid_search_dt_result)"
   ]
  }
 ],
 "metadata": {
  "kernelspec": {
   "display_name": "Python 3",
   "language": "python",
   "name": "python3"
  },
  "language_info": {
   "codemirror_mode": {
    "name": "ipython",
    "version": 3
   },
   "file_extension": ".py",
   "mimetype": "text/x-python",
   "name": "python",
   "nbconvert_exporter": "python",
   "pygments_lexer": "ipython3",
   "version": "3.8.5"
  }
 },
 "nbformat": 4,
 "nbformat_minor": 4
}
